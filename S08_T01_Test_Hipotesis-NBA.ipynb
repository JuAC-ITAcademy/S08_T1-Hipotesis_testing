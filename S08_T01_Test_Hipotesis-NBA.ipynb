{
 "cells": [
  {
   "cell_type": "markdown",
   "id": "moved-joseph",
   "metadata": {},
   "source": [
    "# S08 T01: Tasca del test d'hipòtesis\n",
    "**Descripció**\n",
    "\n",
    "Aprèn a realitzar test d'hipòtesis amb Python.\n",
    "\n",
    "## Nivell 1\n",
    "### - Exercici 1\n",
    "\n",
    "Agafa un conjunt de dades de tema esportiu que t'agradi i selecciona un atribut del conjunt de dades. Calcula el p-valor i digues si rebutja la hipòtesi nul·la agafant un alfa de 5%. \n",
    "\n"
   ]
  },
  {
   "cell_type": "code",
   "execution_count": 1,
   "id": "dental-warehouse",
   "metadata": {},
   "outputs": [],
   "source": [
    "## Carga librerías\n",
    "import pandas as pd\n",
    "import numpy as np\n",
    "\n",
    "%matplotlib inline\n",
    "\n",
    "import matplotlib.pyplot as plt\n",
    "import seaborn as sns\n",
    "\n",
    "\n",
    "import pingouin as pg\n",
    "from scipy.stats import shapiro\n"
   ]
  },
  {
   "cell_type": "markdown",
   "id": "renewable-brighton",
   "metadata": {},
   "source": [
    "Para este ejercicio voy a utilizar una dataset con información sobre jugadores de la NBA.  \n",
    "\n",
    "Podemos descargar este dataset de Kaggle, [NBA Players stats since 1950](https://www.kaggle.com/drgilermo/nba-players-stats)  \n",
    "\n",
    "Este dataset contiene tres tablas, en nuestro caso vamos a utilizar la tabla, _\"player-data.csv\"_. En esta tabla tenemos recogida información sobre las siguientes variables:\n",
    "\n",
    "\n",
    "```\n",
    "   1 - Player. Nombre \n",
    "   2 - Year Start\n",
    "   3 - Year End\n",
    "   4 - Position - Puesto \n",
    "   5 - Height. Altura en pies - pulgada\n",
    "   6 - Weight. Peso en libras\n",
    "   7 - Birth Date. Año de nacimiento\n",
    "   8 - College. Universidad de precedencia\n",
    "     \n",
    "```\n",
    "\n",
    "\n"
   ]
  },
  {
   "cell_type": "code",
   "execution_count": 5,
   "id": "thick-mathematics",
   "metadata": {},
   "outputs": [],
   "source": [
    "# Carga Archivo\n",
    "NBA=pd.read_csv('./datasets/player_data.csv',sep=',')\n"
   ]
  },
  {
   "cell_type": "code",
   "execution_count": 3,
   "id": "smoking-drove",
   "metadata": {},
   "outputs": [
    {
     "data": {
      "text/html": [
       "<div>\n",
       "<style scoped>\n",
       "    .dataframe tbody tr th:only-of-type {\n",
       "        vertical-align: middle;\n",
       "    }\n",
       "\n",
       "    .dataframe tbody tr th {\n",
       "        vertical-align: top;\n",
       "    }\n",
       "\n",
       "    .dataframe thead th {\n",
       "        text-align: right;\n",
       "    }\n",
       "</style>\n",
       "<table border=\"1\" class=\"dataframe\">\n",
       "  <thead>\n",
       "    <tr style=\"text-align: right;\">\n",
       "      <th></th>\n",
       "      <th>name</th>\n",
       "      <th>year_start</th>\n",
       "      <th>year_end</th>\n",
       "      <th>position</th>\n",
       "      <th>height</th>\n",
       "      <th>weight</th>\n",
       "      <th>birth_date</th>\n",
       "      <th>college</th>\n",
       "    </tr>\n",
       "  </thead>\n",
       "  <tbody>\n",
       "    <tr>\n",
       "      <th>0</th>\n",
       "      <td>Alaa Abdelnaby</td>\n",
       "      <td>1991</td>\n",
       "      <td>1995</td>\n",
       "      <td>F-C</td>\n",
       "      <td>6-10</td>\n",
       "      <td>240.0</td>\n",
       "      <td>June 24, 1968</td>\n",
       "      <td>Duke University</td>\n",
       "    </tr>\n",
       "    <tr>\n",
       "      <th>1</th>\n",
       "      <td>Zaid Abdul-Aziz</td>\n",
       "      <td>1969</td>\n",
       "      <td>1978</td>\n",
       "      <td>C-F</td>\n",
       "      <td>6-9</td>\n",
       "      <td>235.0</td>\n",
       "      <td>April 7, 1946</td>\n",
       "      <td>Iowa State University</td>\n",
       "    </tr>\n",
       "    <tr>\n",
       "      <th>2</th>\n",
       "      <td>Kareem Abdul-Jabbar</td>\n",
       "      <td>1970</td>\n",
       "      <td>1989</td>\n",
       "      <td>C</td>\n",
       "      <td>7-2</td>\n",
       "      <td>225.0</td>\n",
       "      <td>April 16, 1947</td>\n",
       "      <td>University of California, Los Angeles</td>\n",
       "    </tr>\n",
       "    <tr>\n",
       "      <th>3</th>\n",
       "      <td>Mahmoud Abdul-Rauf</td>\n",
       "      <td>1991</td>\n",
       "      <td>2001</td>\n",
       "      <td>G</td>\n",
       "      <td>6-1</td>\n",
       "      <td>162.0</td>\n",
       "      <td>March 9, 1969</td>\n",
       "      <td>Louisiana State University</td>\n",
       "    </tr>\n",
       "    <tr>\n",
       "      <th>4</th>\n",
       "      <td>Tariq Abdul-Wahad</td>\n",
       "      <td>1998</td>\n",
       "      <td>2003</td>\n",
       "      <td>F</td>\n",
       "      <td>6-6</td>\n",
       "      <td>223.0</td>\n",
       "      <td>November 3, 1974</td>\n",
       "      <td>San Jose State University</td>\n",
       "    </tr>\n",
       "  </tbody>\n",
       "</table>\n",
       "</div>"
      ],
      "text/plain": [
       "                  name  year_start  year_end position height  weight  \\\n",
       "0       Alaa Abdelnaby        1991      1995      F-C   6-10   240.0   \n",
       "1      Zaid Abdul-Aziz        1969      1978      C-F    6-9   235.0   \n",
       "2  Kareem Abdul-Jabbar        1970      1989        C    7-2   225.0   \n",
       "3   Mahmoud Abdul-Rauf        1991      2001        G    6-1   162.0   \n",
       "4    Tariq Abdul-Wahad        1998      2003        F    6-6   223.0   \n",
       "\n",
       "         birth_date                                college  \n",
       "0     June 24, 1968                        Duke University  \n",
       "1     April 7, 1946                  Iowa State University  \n",
       "2    April 16, 1947  University of California, Los Angeles  \n",
       "3     March 9, 1969             Louisiana State University  \n",
       "4  November 3, 1974              San Jose State University  "
      ]
     },
     "execution_count": 3,
     "metadata": {},
     "output_type": "execute_result"
    }
   ],
   "source": [
    "NBA.head()"
   ]
  },
  {
   "cell_type": "code",
   "execution_count": 6,
   "id": "overall-liverpool",
   "metadata": {},
   "outputs": [
    {
     "name": "stdout",
     "output_type": "stream",
     "text": [
      "<class 'pandas.core.frame.DataFrame'>\n",
      "RangeIndex: 4550 entries, 0 to 4549\n",
      "Data columns (total 8 columns):\n",
      " #   Column      Non-Null Count  Dtype  \n",
      "---  ------      --------------  -----  \n",
      " 0   name        4550 non-null   object \n",
      " 1   year_start  4550 non-null   int64  \n",
      " 2   year_end    4550 non-null   int64  \n",
      " 3   position    4549 non-null   object \n",
      " 4   height      4549 non-null   object \n",
      " 5   weight      4544 non-null   float64\n",
      " 6   birth_date  4519 non-null   object \n",
      " 7   college     4248 non-null   object \n",
      "dtypes: float64(1), int64(2), object(5)\n",
      "memory usage: 284.5+ KB\n"
     ]
    }
   ],
   "source": [
    "NBA.info()\n"
   ]
  },
  {
   "cell_type": "markdown",
   "id": "parental-exhibition",
   "metadata": {},
   "source": [
    "A continuación voy a limpiar el dataset, eliminando las observaciones con valores nulos de altura, PESO O FECHA DE NACIMIENTO y asignando un valor _\"Unknown\"_ a las observaciones desconocidas de colegio de procedencia."
   ]
  },
  {
   "cell_type": "code",
   "execution_count": 7,
   "id": "monthly-communist",
   "metadata": {},
   "outputs": [],
   "source": [
    "# Drop missing Values at height, weight and birth_date\n",
    "NBA.dropna(subset = ['height','weight','birth_date'],\n",
    "           inplace = True)"
   ]
  },
  {
   "cell_type": "code",
   "execution_count": 8,
   "id": "imported-massage",
   "metadata": {},
   "outputs": [],
   "source": [
    "# Set missing_values as Unknown at college\n",
    "NBA.loc[NBA.college.isna(), 'college'] = 'Unknown'"
   ]
  },
  {
   "cell_type": "code",
   "execution_count": 9,
   "id": "rising-belize",
   "metadata": {},
   "outputs": [],
   "source": [
    "# Drop duplicates in case they exists\n",
    "NBA.drop_duplicates(inplace = True)"
   ]
  },
  {
   "cell_type": "code",
   "execution_count": 10,
   "id": "final-infrastructure",
   "metadata": {},
   "outputs": [
    {
     "name": "stdout",
     "output_type": "stream",
     "text": [
      "<class 'pandas.core.frame.DataFrame'>\n",
      "Int64Index: 4514 entries, 0 to 4549\n",
      "Data columns (total 8 columns):\n",
      " #   Column      Non-Null Count  Dtype  \n",
      "---  ------      --------------  -----  \n",
      " 0   name        4514 non-null   object \n",
      " 1   year_start  4514 non-null   int64  \n",
      " 2   year_end    4514 non-null   int64  \n",
      " 3   position    4514 non-null   object \n",
      " 4   height      4514 non-null   object \n",
      " 5   weight      4514 non-null   float64\n",
      " 6   birth_date  4514 non-null   object \n",
      " 7   college     4514 non-null   object \n",
      "dtypes: float64(1), int64(2), object(5)\n",
      "memory usage: 317.4+ KB\n"
     ]
    }
   ],
   "source": [
    "NBA.info()"
   ]
  },
  {
   "cell_type": "code",
   "execution_count": 11,
   "id": "promising-audience",
   "metadata": {},
   "outputs": [],
   "source": [
    "NBA.reset_index(inplace = True)"
   ]
  },
  {
   "cell_type": "markdown",
   "id": "injured-masters",
   "metadata": {},
   "source": [
    "Ahora convierto altura a metros y peso a Kg y estrago el año de nacimiento y el número de temporadas que jugaron."
   ]
  },
  {
   "cell_type": "code",
   "execution_count": 12,
   "id": "challenging-block",
   "metadata": {},
   "outputs": [],
   "source": [
    "# Transformo altura a metros\n",
    "\n",
    "NBA['height_m'] = round( NBA.height.str.split('-',expand = True).astype(float)[0]*0.3048 \n",
    "                        + NBA.height.str.split('-',expand = True)[1].astype(float)*0.0254,\n",
    "                        2)\n",
    "\n",
    "\n",
    "# Transformo peso a kg\n",
    "\n",
    "NBA['weight_kg'] = round( NBA.weight*0.4536,1)\n"
   ]
  },
  {
   "cell_type": "code",
   "execution_count": 13,
   "id": "known-jerusalem",
   "metadata": {},
   "outputs": [],
   "source": [
    "# Extraigo año nacimiento\n",
    "\n",
    "NBA['birth_year'] = NBA.birth_date.str.split(',',expand = True)[1].astype(int)"
   ]
  },
  {
   "cell_type": "code",
   "execution_count": 14,
   "id": "antique-blend",
   "metadata": {},
   "outputs": [],
   "source": [
    "NBA['Num_seasons'] = NBA.year_end - NBA.year_start"
   ]
  },
  {
   "cell_type": "code",
   "execution_count": 15,
   "id": "printable-spencer",
   "metadata": {},
   "outputs": [
    {
     "data": {
      "text/html": [
       "<div>\n",
       "<style scoped>\n",
       "    .dataframe tbody tr th:only-of-type {\n",
       "        vertical-align: middle;\n",
       "    }\n",
       "\n",
       "    .dataframe tbody tr th {\n",
       "        vertical-align: top;\n",
       "    }\n",
       "\n",
       "    .dataframe thead th {\n",
       "        text-align: right;\n",
       "    }\n",
       "</style>\n",
       "<table border=\"1\" class=\"dataframe\">\n",
       "  <thead>\n",
       "    <tr style=\"text-align: right;\">\n",
       "      <th></th>\n",
       "      <th>index</th>\n",
       "      <th>name</th>\n",
       "      <th>year_start</th>\n",
       "      <th>year_end</th>\n",
       "      <th>position</th>\n",
       "      <th>height</th>\n",
       "      <th>weight</th>\n",
       "      <th>birth_date</th>\n",
       "      <th>college</th>\n",
       "      <th>height_m</th>\n",
       "      <th>weight_kg</th>\n",
       "      <th>birth_year</th>\n",
       "      <th>Num_seasons</th>\n",
       "    </tr>\n",
       "  </thead>\n",
       "  <tbody>\n",
       "    <tr>\n",
       "      <th>0</th>\n",
       "      <td>0</td>\n",
       "      <td>Alaa Abdelnaby</td>\n",
       "      <td>1991</td>\n",
       "      <td>1995</td>\n",
       "      <td>F-C</td>\n",
       "      <td>6-10</td>\n",
       "      <td>240.0</td>\n",
       "      <td>June 24, 1968</td>\n",
       "      <td>Duke University</td>\n",
       "      <td>2.08</td>\n",
       "      <td>108.9</td>\n",
       "      <td>1968</td>\n",
       "      <td>4</td>\n",
       "    </tr>\n",
       "    <tr>\n",
       "      <th>1</th>\n",
       "      <td>1</td>\n",
       "      <td>Zaid Abdul-Aziz</td>\n",
       "      <td>1969</td>\n",
       "      <td>1978</td>\n",
       "      <td>C-F</td>\n",
       "      <td>6-9</td>\n",
       "      <td>235.0</td>\n",
       "      <td>April 7, 1946</td>\n",
       "      <td>Iowa State University</td>\n",
       "      <td>2.06</td>\n",
       "      <td>106.6</td>\n",
       "      <td>1946</td>\n",
       "      <td>9</td>\n",
       "    </tr>\n",
       "    <tr>\n",
       "      <th>2</th>\n",
       "      <td>2</td>\n",
       "      <td>Kareem Abdul-Jabbar</td>\n",
       "      <td>1970</td>\n",
       "      <td>1989</td>\n",
       "      <td>C</td>\n",
       "      <td>7-2</td>\n",
       "      <td>225.0</td>\n",
       "      <td>April 16, 1947</td>\n",
       "      <td>University of California, Los Angeles</td>\n",
       "      <td>2.18</td>\n",
       "      <td>102.1</td>\n",
       "      <td>1947</td>\n",
       "      <td>19</td>\n",
       "    </tr>\n",
       "    <tr>\n",
       "      <th>3</th>\n",
       "      <td>3</td>\n",
       "      <td>Mahmoud Abdul-Rauf</td>\n",
       "      <td>1991</td>\n",
       "      <td>2001</td>\n",
       "      <td>G</td>\n",
       "      <td>6-1</td>\n",
       "      <td>162.0</td>\n",
       "      <td>March 9, 1969</td>\n",
       "      <td>Louisiana State University</td>\n",
       "      <td>1.85</td>\n",
       "      <td>73.5</td>\n",
       "      <td>1969</td>\n",
       "      <td>10</td>\n",
       "    </tr>\n",
       "    <tr>\n",
       "      <th>4</th>\n",
       "      <td>4</td>\n",
       "      <td>Tariq Abdul-Wahad</td>\n",
       "      <td>1998</td>\n",
       "      <td>2003</td>\n",
       "      <td>F</td>\n",
       "      <td>6-6</td>\n",
       "      <td>223.0</td>\n",
       "      <td>November 3, 1974</td>\n",
       "      <td>San Jose State University</td>\n",
       "      <td>1.98</td>\n",
       "      <td>101.2</td>\n",
       "      <td>1974</td>\n",
       "      <td>5</td>\n",
       "    </tr>\n",
       "  </tbody>\n",
       "</table>\n",
       "</div>"
      ],
      "text/plain": [
       "   index                 name  year_start  year_end position height  weight  \\\n",
       "0      0       Alaa Abdelnaby        1991      1995      F-C   6-10   240.0   \n",
       "1      1      Zaid Abdul-Aziz        1969      1978      C-F    6-9   235.0   \n",
       "2      2  Kareem Abdul-Jabbar        1970      1989        C    7-2   225.0   \n",
       "3      3   Mahmoud Abdul-Rauf        1991      2001        G    6-1   162.0   \n",
       "4      4    Tariq Abdul-Wahad        1998      2003        F    6-6   223.0   \n",
       "\n",
       "         birth_date                                college  height_m  \\\n",
       "0     June 24, 1968                        Duke University      2.08   \n",
       "1     April 7, 1946                  Iowa State University      2.06   \n",
       "2    April 16, 1947  University of California, Los Angeles      2.18   \n",
       "3     March 9, 1969             Louisiana State University      1.85   \n",
       "4  November 3, 1974              San Jose State University      1.98   \n",
       "\n",
       "   weight_kg  birth_year  Num_seasons  \n",
       "0      108.9        1968            4  \n",
       "1      106.6        1946            9  \n",
       "2      102.1        1947           19  \n",
       "3       73.5        1969           10  \n",
       "4      101.2        1974            5  "
      ]
     },
     "execution_count": 15,
     "metadata": {},
     "output_type": "execute_result"
    }
   ],
   "source": [
    "NBA.head()"
   ]
  },
  {
   "cell_type": "markdown",
   "id": "integrated-elevation",
   "metadata": {},
   "source": [
    "Y por último selecciono los campos con lo que voy a trabajar."
   ]
  },
  {
   "cell_type": "code",
   "execution_count": 16,
   "id": "collectible-weekend",
   "metadata": {},
   "outputs": [
    {
     "data": {
      "text/html": [
       "<div>\n",
       "<style scoped>\n",
       "    .dataframe tbody tr th:only-of-type {\n",
       "        vertical-align: middle;\n",
       "    }\n",
       "\n",
       "    .dataframe tbody tr th {\n",
       "        vertical-align: top;\n",
       "    }\n",
       "\n",
       "    .dataframe thead th {\n",
       "        text-align: right;\n",
       "    }\n",
       "</style>\n",
       "<table border=\"1\" class=\"dataframe\">\n",
       "  <thead>\n",
       "    <tr style=\"text-align: right;\">\n",
       "      <th></th>\n",
       "      <th>name</th>\n",
       "      <th>height_m</th>\n",
       "      <th>weight_kg</th>\n",
       "      <th>birth_year</th>\n",
       "      <th>Num_seasons</th>\n",
       "      <th>position</th>\n",
       "    </tr>\n",
       "  </thead>\n",
       "  <tbody>\n",
       "    <tr>\n",
       "      <th>0</th>\n",
       "      <td>Alaa Abdelnaby</td>\n",
       "      <td>2.08</td>\n",
       "      <td>108.9</td>\n",
       "      <td>1968</td>\n",
       "      <td>4</td>\n",
       "      <td>F-C</td>\n",
       "    </tr>\n",
       "    <tr>\n",
       "      <th>1</th>\n",
       "      <td>Zaid Abdul-Aziz</td>\n",
       "      <td>2.06</td>\n",
       "      <td>106.6</td>\n",
       "      <td>1946</td>\n",
       "      <td>9</td>\n",
       "      <td>C-F</td>\n",
       "    </tr>\n",
       "    <tr>\n",
       "      <th>2</th>\n",
       "      <td>Kareem Abdul-Jabbar</td>\n",
       "      <td>2.18</td>\n",
       "      <td>102.1</td>\n",
       "      <td>1947</td>\n",
       "      <td>19</td>\n",
       "      <td>C</td>\n",
       "    </tr>\n",
       "    <tr>\n",
       "      <th>3</th>\n",
       "      <td>Mahmoud Abdul-Rauf</td>\n",
       "      <td>1.85</td>\n",
       "      <td>73.5</td>\n",
       "      <td>1969</td>\n",
       "      <td>10</td>\n",
       "      <td>G</td>\n",
       "    </tr>\n",
       "    <tr>\n",
       "      <th>4</th>\n",
       "      <td>Tariq Abdul-Wahad</td>\n",
       "      <td>1.98</td>\n",
       "      <td>101.2</td>\n",
       "      <td>1974</td>\n",
       "      <td>5</td>\n",
       "      <td>F</td>\n",
       "    </tr>\n",
       "    <tr>\n",
       "      <th>...</th>\n",
       "      <td>...</td>\n",
       "      <td>...</td>\n",
       "      <td>...</td>\n",
       "      <td>...</td>\n",
       "      <td>...</td>\n",
       "      <td>...</td>\n",
       "    </tr>\n",
       "    <tr>\n",
       "      <th>4509</th>\n",
       "      <td>Ante Zizic</td>\n",
       "      <td>2.11</td>\n",
       "      <td>113.4</td>\n",
       "      <td>1997</td>\n",
       "      <td>0</td>\n",
       "      <td>F-C</td>\n",
       "    </tr>\n",
       "    <tr>\n",
       "      <th>4510</th>\n",
       "      <td>Jim Zoet</td>\n",
       "      <td>2.16</td>\n",
       "      <td>108.9</td>\n",
       "      <td>1953</td>\n",
       "      <td>0</td>\n",
       "      <td>C</td>\n",
       "    </tr>\n",
       "    <tr>\n",
       "      <th>4511</th>\n",
       "      <td>Bill Zopf</td>\n",
       "      <td>1.85</td>\n",
       "      <td>77.1</td>\n",
       "      <td>1948</td>\n",
       "      <td>0</td>\n",
       "      <td>G</td>\n",
       "    </tr>\n",
       "    <tr>\n",
       "      <th>4512</th>\n",
       "      <td>Ivica Zubac</td>\n",
       "      <td>2.16</td>\n",
       "      <td>120.2</td>\n",
       "      <td>1997</td>\n",
       "      <td>1</td>\n",
       "      <td>C</td>\n",
       "    </tr>\n",
       "    <tr>\n",
       "      <th>4513</th>\n",
       "      <td>Matt Zunic</td>\n",
       "      <td>1.91</td>\n",
       "      <td>88.5</td>\n",
       "      <td>1919</td>\n",
       "      <td>0</td>\n",
       "      <td>G-F</td>\n",
       "    </tr>\n",
       "  </tbody>\n",
       "</table>\n",
       "<p>4514 rows × 6 columns</p>\n",
       "</div>"
      ],
      "text/plain": [
       "                     name  height_m  weight_kg  birth_year  Num_seasons  \\\n",
       "0          Alaa Abdelnaby      2.08      108.9        1968            4   \n",
       "1         Zaid Abdul-Aziz      2.06      106.6        1946            9   \n",
       "2     Kareem Abdul-Jabbar      2.18      102.1        1947           19   \n",
       "3      Mahmoud Abdul-Rauf      1.85       73.5        1969           10   \n",
       "4       Tariq Abdul-Wahad      1.98      101.2        1974            5   \n",
       "...                   ...       ...        ...         ...          ...   \n",
       "4509           Ante Zizic      2.11      113.4        1997            0   \n",
       "4510             Jim Zoet      2.16      108.9        1953            0   \n",
       "4511            Bill Zopf      1.85       77.1        1948            0   \n",
       "4512          Ivica Zubac      2.16      120.2        1997            1   \n",
       "4513           Matt Zunic      1.91       88.5        1919            0   \n",
       "\n",
       "     position  \n",
       "0         F-C  \n",
       "1         C-F  \n",
       "2           C  \n",
       "3           G  \n",
       "4           F  \n",
       "...       ...  \n",
       "4509      F-C  \n",
       "4510        C  \n",
       "4511        G  \n",
       "4512        C  \n",
       "4513      G-F  \n",
       "\n",
       "[4514 rows x 6 columns]"
      ]
     },
     "execution_count": 16,
     "metadata": {},
     "output_type": "execute_result"
    }
   ],
   "source": [
    "NBA_hipotesis = NBA[['name', 'height_m', 'weight_kg', 'birth_year', 'Num_seasons', 'position']]\n",
    "NBA_hipotesis"
   ]
  },
  {
   "cell_type": "markdown",
   "id": "statistical-biotechnology",
   "metadata": {},
   "source": [
    "### EDA.\n",
    "\n",
    "Hagamos un análisis rápido de las distribuciones de nuestras variables con el método describe()."
   ]
  },
  {
   "cell_type": "code",
   "execution_count": 17,
   "id": "popular-transformation",
   "metadata": {},
   "outputs": [
    {
     "data": {
      "text/html": [
       "<div>\n",
       "<style scoped>\n",
       "    .dataframe tbody tr th:only-of-type {\n",
       "        vertical-align: middle;\n",
       "    }\n",
       "\n",
       "    .dataframe tbody tr th {\n",
       "        vertical-align: top;\n",
       "    }\n",
       "\n",
       "    .dataframe thead th {\n",
       "        text-align: right;\n",
       "    }\n",
       "</style>\n",
       "<table border=\"1\" class=\"dataframe\">\n",
       "  <thead>\n",
       "    <tr style=\"text-align: right;\">\n",
       "      <th></th>\n",
       "      <th>height_m</th>\n",
       "      <th>weight_kg</th>\n",
       "      <th>birth_year</th>\n",
       "      <th>Num_seasons</th>\n",
       "    </tr>\n",
       "  </thead>\n",
       "  <tbody>\n",
       "    <tr>\n",
       "      <th>count</th>\n",
       "      <td>4514.000000</td>\n",
       "      <td>4514.000000</td>\n",
       "      <td>4514.000000</td>\n",
       "      <td>4514.000000</td>\n",
       "    </tr>\n",
       "    <tr>\n",
       "      <th>mean</th>\n",
       "      <td>1.982619</td>\n",
       "      <td>94.792667</td>\n",
       "      <td>1961.320780</td>\n",
       "      <td>4.228401</td>\n",
       "    </tr>\n",
       "    <tr>\n",
       "      <th>std</th>\n",
       "      <td>0.092457</td>\n",
       "      <td>11.937526</td>\n",
       "      <td>21.647087</td>\n",
       "      <td>4.506330</td>\n",
       "    </tr>\n",
       "    <tr>\n",
       "      <th>min</th>\n",
       "      <td>1.600000</td>\n",
       "      <td>51.700000</td>\n",
       "      <td>1902.000000</td>\n",
       "      <td>0.000000</td>\n",
       "    </tr>\n",
       "    <tr>\n",
       "      <th>25%</th>\n",
       "      <td>1.910000</td>\n",
       "      <td>86.200000</td>\n",
       "      <td>1946.000000</td>\n",
       "      <td>0.000000</td>\n",
       "    </tr>\n",
       "    <tr>\n",
       "      <th>50%</th>\n",
       "      <td>1.980000</td>\n",
       "      <td>95.300000</td>\n",
       "      <td>1963.000000</td>\n",
       "      <td>3.000000</td>\n",
       "    </tr>\n",
       "    <tr>\n",
       "      <th>75%</th>\n",
       "      <td>2.060000</td>\n",
       "      <td>102.100000</td>\n",
       "      <td>1980.000000</td>\n",
       "      <td>7.000000</td>\n",
       "    </tr>\n",
       "    <tr>\n",
       "      <th>max</th>\n",
       "      <td>2.310000</td>\n",
       "      <td>163.300000</td>\n",
       "      <td>1998.000000</td>\n",
       "      <td>22.000000</td>\n",
       "    </tr>\n",
       "  </tbody>\n",
       "</table>\n",
       "</div>"
      ],
      "text/plain": [
       "          height_m    weight_kg   birth_year  Num_seasons\n",
       "count  4514.000000  4514.000000  4514.000000  4514.000000\n",
       "mean      1.982619    94.792667  1961.320780     4.228401\n",
       "std       0.092457    11.937526    21.647087     4.506330\n",
       "min       1.600000    51.700000  1902.000000     0.000000\n",
       "25%       1.910000    86.200000  1946.000000     0.000000\n",
       "50%       1.980000    95.300000  1963.000000     3.000000\n",
       "75%       2.060000   102.100000  1980.000000     7.000000\n",
       "max       2.310000   163.300000  1998.000000    22.000000"
      ]
     },
     "execution_count": 17,
     "metadata": {},
     "output_type": "execute_result"
    }
   ],
   "source": [
    "NBA_hipotesis.describe()"
   ]
  },
  {
   "cell_type": "markdown",
   "id": "finnish-backup",
   "metadata": {},
   "source": [
    "Perfecto, vemos que la altura media de nuestra población es 1,98 y que media y mediana para el caso de altura son casi iguales.\n",
    "\n",
    "El peso medio está en una 94,7 kg y los judaores juegan un promedio de 4 temporadas, aunquehay algunos casos de hasta 22 temporadas.\n",
    "\n",
    "Vamos a ver a continuación los histogramas de nuestras distribuciones. "
   ]
  },
  {
   "cell_type": "code",
   "execution_count": 20,
   "id": "architectural-journey",
   "metadata": {},
   "outputs": [
    {
     "data": {
      "image/png": "[encoded data removed]",
      "text/plain": [
       "<Figure size 1080x720 with 4 Axes>"
      ]
     },
     "metadata": {},
     "output_type": "display_data"
    }
   ],
   "source": [
    "# Representación gráfica histogramas con (kde) de las features numéricas\n",
    "#---------------------------------------------------------------------------\n",
    "filas=2\n",
    "columnas=2\n",
    "\n",
    "fig, axes = plt.subplots(filas, columnas, figsize=(15, 10),tight_layout=True)\n",
    "\n",
    "sns.set_style(\"darkgrid\")\n",
    "sns.set_palette('RdGy')\n",
    "\n",
    "for i in range(filas):\n",
    "    for j in range(columnas):\n",
    "\n",
    "        var=(+j)+(i*columnas)\n",
    "        \n",
    "        sns.histplot(ax = axes[i, j], \n",
    "                     data = NBA_hipotesis,  \n",
    "                     x = NBA_hipotesis.columns[var+1],\n",
    "                     bins = 'auto',\n",
    "                     kde = True,\n",
    "                     alpha = 0.5)\n",
    "        "
   ]
  },
  {
   "cell_type": "markdown",
   "id": "subsequent-classification",
   "metadata": {},
   "source": [
    "El peso y la altura tienen una distribución que parece que podría ser gausiana. \n",
    "\n",
    "Por otro lado si vemos el año de nacimiento de nuestros jugadores, se observa una tendencia constante entre mediados de los 1940 y los 2000 de unos 125 jugares / año y esa tendencia es menor para fechas anteriores a 1940, tal vez estará relacionado con el de equipos que jugaban en las primeras temporadas de la NBA.\n",
    "\n",
    "Si miramos la distribución de temporadas vemos que mantenerse en activo más de 3 años en la mejor liga del mundo es muy difícil y solo lo consiguen el 50 % de los jugadores."
   ]
  },
  {
   "cell_type": "code",
   "execution_count": 26,
   "id": "conservative-housing",
   "metadata": {},
   "outputs": [
    {
     "data": {
      "image/png": "[encoded data removed]",
      "text/plain": [
       "<Figure size 432x288 with 1 Axes>"
      ]
     },
     "metadata": {},
     "output_type": "display_data"
    }
   ],
   "source": [
    "# Número de jugadores por posición\n",
    "sns.countplot(data = NBA_hipotesis,  \n",
    "             x = NBA_hipotesis.position,\n",
    "             alpha = 0.8);"
   ]
  },
  {
   "cell_type": "markdown",
   "id": "measured-pathology",
   "metadata": {},
   "source": [
    "**Hipótesis 1**"
   ]
  },
  {
   "cell_type": "markdown",
   "id": "alternative-pacific",
   "metadata": {},
   "source": [
    "Voy a tomar una muestra del 5% y quiero saber si la distribución de la altura en mi muestra es representativa.\n",
    "\n",
    "En este caso la hipótesis quedaría formulada como sigue:"
   ]
  },
  {
   "cell_type": "markdown",
   "id": "junior-studio",
   "metadata": {},
   "source": [
    "$H_0: \\overline{X}_{(muestra-jugadores)} = \\mu_{(población-jugadores)}$\n",
    "\n",
    "$H_A: \\overline{X}_{(muestra-jugadores)} \\neq \\mu_{población-jugadores)}$"
   ]
  },
  {
   "cell_type": "code",
   "execution_count": 27,
   "id": "large-religion",
   "metadata": {},
   "outputs": [],
   "source": [
    "# Voy a trabajar con una muestra del 5 %\n",
    "muestra = NBA_hipotesis.sample(frac = 0.05,\n",
    "                       random_state = 1984)"
   ]
  },
  {
   "cell_type": "code",
   "execution_count": 28,
   "id": "immune-brain",
   "metadata": {},
   "outputs": [
    {
     "data": {
      "text/plain": [
       "1.9832300884955751"
      ]
     },
     "execution_count": 28,
     "metadata": {},
     "output_type": "execute_result"
    }
   ],
   "source": [
    "muestra.height_m.mean()"
   ]
  },
  {
   "cell_type": "code",
   "execution_count": 29,
   "id": "gentle-arrest",
   "metadata": {},
   "outputs": [
    {
     "data": {
      "image/png": "[encoded data removed]",
      "text/plain": [
       "<Figure size 432x288 with 1 Axes>"
      ]
     },
     "metadata": {},
     "output_type": "display_data"
    }
   ],
   "source": [
    "sns.histplot(data=muestra,  \n",
    "             x='height_m',\n",
    "             kde=True,\n",
    "             alpha=0.5);"
   ]
  },
  {
   "cell_type": "code",
   "execution_count": 30,
   "id": "powerful-tribe",
   "metadata": {},
   "outputs": [
    {
     "data": {
      "text/plain": [
       "ShapiroResult(statistic=0.9795364141464233, pvalue=0.002321604173630476)"
      ]
     },
     "execution_count": 30,
     "metadata": {},
     "output_type": "execute_result"
    }
   ],
   "source": [
    "# Test de normalidad\n",
    "shapiro(muestra.height_m)"
   ]
  },
  {
   "cell_type": "markdown",
   "id": "critical-aspect",
   "metadata": {},
   "source": [
    "Aplicando el test de Shapiro como p<0.05 obtengo que no puedo descartar que la distribución no sea normal.\n",
    "\n",
    "Por lo tanto no estaría cumpliento las condiciones para aplicar el t-test para comparación de poblaciones. Aunque en a nivel de resultados está demostrado empíricamente que los resultados son similares, vamos a probar nuestra hipótesis con un test no paramétrico. En este caso Mann-Whitney U Test (= Wilcoxon rank-sum test), que sería la versión no-paramétrica del T-test para muestras independientes.\n"
   ]
  },
  {
   "cell_type": "code",
   "execution_count": 31,
   "id": "mature-buyer",
   "metadata": {},
   "outputs": [
    {
     "data": {
      "text/html": [
       "<div>\n",
       "<style scoped>\n",
       "    .dataframe tbody tr th:only-of-type {\n",
       "        vertical-align: middle;\n",
       "    }\n",
       "\n",
       "    .dataframe tbody tr th {\n",
       "        vertical-align: top;\n",
       "    }\n",
       "\n",
       "    .dataframe thead th {\n",
       "        text-align: right;\n",
       "    }\n",
       "</style>\n",
       "<table border=\"1\" class=\"dataframe\">\n",
       "  <thead>\n",
       "    <tr style=\"text-align: right;\">\n",
       "      <th></th>\n",
       "      <th>U-val</th>\n",
       "      <th>tail</th>\n",
       "      <th>p-val</th>\n",
       "      <th>RBC</th>\n",
       "      <th>CLES</th>\n",
       "    </tr>\n",
       "  </thead>\n",
       "  <tbody>\n",
       "    <tr>\n",
       "      <th>MWU</th>\n",
       "      <td>516102.5</td>\n",
       "      <td>two-sided</td>\n",
       "      <td>0.763552</td>\n",
       "      <td>-0.011803</td>\n",
       "      <td>0.505902</td>\n",
       "    </tr>\n",
       "  </tbody>\n",
       "</table>\n",
       "</div>"
      ],
      "text/plain": [
       "        U-val       tail     p-val       RBC      CLES\n",
       "MWU  516102.5  two-sided  0.763552 -0.011803  0.505902"
      ]
     },
     "execution_count": 31,
     "metadata": {},
     "output_type": "execute_result"
    }
   ],
   "source": [
    "# Man - Whitney U Test\n",
    "pg.mwu(x = muestra.height_m,\n",
    "       y = NBA_hipotesis.height_m,\n",
    "       tail = 'two-sided')"
   ]
  },
  {
   "cell_type": "markdown",
   "id": "mechanical-ending",
   "metadata": {},
   "source": [
    "P - Value > 0.05 - Como el valor p es mayor que el nivel de significancia, no puedo rechazar la hipótesis nula, por lo que **puedo afirmar que las medias son iguales**."
   ]
  },
  {
   "cell_type": "markdown",
   "id": "unique-pharmacology",
   "metadata": {},
   "source": [
    "En este primer caso hemos aplicado un test de dos colas, vamos a plicar ahora un test de una cola para responder a la pregunta sobre si los jugadores de la década de los 90, son más altos que el resto. "
   ]
  },
  {
   "cell_type": "markdown",
   "id": "military-schema",
   "metadata": {},
   "source": [
    "En el siguiente caso quiero saber si existe evidencia estadística para afirmar que la altura de los jugadores nacidos en los 90's es mayor que la media de todos los jugadores.\n",
    "\n",
    "En este caso tendríamos que aplicar un **test de una cola**. Y la formulación de la hipótesis sería:\n",
    "\n",
    "$H_0: \\mu_{(jugadores-90's)} \\leqslant \\mu_{(resto-jugadores)}$\n",
    "\n",
    "$H_A: \\mu_{(jugadores-90's)} > \\mu_{(resto-jugadores)}$"
   ]
  },
  {
   "cell_type": "code",
   "execution_count": 34,
   "id": "filled-teddy",
   "metadata": {},
   "outputs": [],
   "source": [
    "# Jugadores decada 90\n",
    "jugadores_90 = NBA_hipotesis.loc[(NBA_hipotesis.birth_year > 1989), ]"
   ]
  },
  {
   "cell_type": "code",
   "execution_count": 35,
   "id": "static-apparel",
   "metadata": {},
   "outputs": [],
   "source": [
    "# Resto de Jugadores \n",
    "jugadores_resto = NBA_hipotesis.loc[(NBA_hipotesis.birth_year < 1990), ]"
   ]
  },
  {
   "cell_type": "code",
   "execution_count": 36,
   "id": "french-therapy",
   "metadata": {},
   "outputs": [
    {
     "data": {
      "text/plain": [
       "ShapiroResult(statistic=0.983176589012146, pvalue=3.9787246350897476e-05)"
      ]
     },
     "execution_count": 36,
     "metadata": {},
     "output_type": "execute_result"
    }
   ],
   "source": [
    "# Test de normalidad\n",
    "shapiro(jugadores_90.height_m)"
   ]
  },
  {
   "cell_type": "code",
   "execution_count": 37,
   "id": "conceptual-carolina",
   "metadata": {},
   "outputs": [
    {
     "data": {
      "text/html": [
       "<div>\n",
       "<style scoped>\n",
       "    .dataframe tbody tr th:only-of-type {\n",
       "        vertical-align: middle;\n",
       "    }\n",
       "\n",
       "    .dataframe tbody tr th {\n",
       "        vertical-align: top;\n",
       "    }\n",
       "\n",
       "    .dataframe thead th {\n",
       "        text-align: right;\n",
       "    }\n",
       "</style>\n",
       "<table border=\"1\" class=\"dataframe\">\n",
       "  <thead>\n",
       "    <tr style=\"text-align: right;\">\n",
       "      <th></th>\n",
       "      <th>U-val</th>\n",
       "      <th>tail</th>\n",
       "      <th>p-val</th>\n",
       "      <th>RBC</th>\n",
       "      <th>CLES</th>\n",
       "    </tr>\n",
       "  </thead>\n",
       "  <tbody>\n",
       "    <tr>\n",
       "      <th>MWU</th>\n",
       "      <td>1077627.5</td>\n",
       "      <td>greater</td>\n",
       "      <td>2.197443e-09</td>\n",
       "      <td>-0.166993</td>\n",
       "      <td>0.583496</td>\n",
       "    </tr>\n",
       "  </tbody>\n",
       "</table>\n",
       "</div>"
      ],
      "text/plain": [
       "         U-val     tail         p-val       RBC      CLES\n",
       "MWU  1077627.5  greater  2.197443e-09 -0.166993  0.583496"
      ]
     },
     "execution_count": 37,
     "metadata": {},
     "output_type": "execute_result"
    }
   ],
   "source": [
    "pg.mwu(jugadores_90.height_m, \n",
    "       jugadores_resto.height_m,\n",
    "       tail = 'greater')"
   ]
  },
  {
   "cell_type": "markdown",
   "id": "affiliated-discrimination",
   "metadata": {},
   "source": [
    "Como p-value es menor que el nivel de significancia puedo **rechazar que se cumpla la hipótesis inicial** y por lo tanto puedo afirmar que los **jugadores nacidos en la década de los 90's son significativamente más altos**."
   ]
  },
  {
   "cell_type": "markdown",
   "id": "orange-maintenance",
   "metadata": {},
   "source": [
    "## Nivell 2\n",
    "### - Exercici 2\n",
    "\n",
    "Continua amb el conjunt de dades de tema esportiu que t'agradi i selecciona dos altres atributs del conjunt de dades. Calcula els p-valors i digues si rebutgen la hipòtesi nul·la agafant un alfa de 5%.\n",
    "\n"
   ]
  },
  {
   "cell_type": "markdown",
   "id": "confused-magazine",
   "metadata": {},
   "source": [
    "En este caso quiero comprobar si las variables peso y altura son independientes.\n",
    "\n",
    "1) Comprobamos si existen outliers"
   ]
  },
  {
   "cell_type": "code",
   "execution_count": 38,
   "id": "premier-standard",
   "metadata": {},
   "outputs": [
    {
     "data": {
      "image/png": "[encoded data removed]",
      "text/plain": [
       "<Figure size 864x288 with 2 Axes>"
      ]
     },
     "metadata": {},
     "output_type": "display_data"
    }
   ],
   "source": [
    "fig, (ax1,ax2) = plt.subplots(1,2, figsize = (12,4))\n",
    "\n",
    "# Ax 1 - Boxplot weight\n",
    "sns.boxplot(data = NBA_hipotesis.weight_kg, ax=ax1)\n",
    "ax1.set_title('Boxplot - Weight')\n",
    "\n",
    "# Ax2 - Boxplot height\n",
    "sns.boxplot(data = NBA_hipotesis.height_m, ax=ax2)\n",
    "ax2.set_title('Boxplot - Height');\n"
   ]
  },
  {
   "cell_type": "markdown",
   "id": "ahead-feeling",
   "metadata": {},
   "source": [
    "2) Representamos gráficamente peso vs altura."
   ]
  },
  {
   "cell_type": "code",
   "execution_count": 39,
   "id": "careful-essence",
   "metadata": {},
   "outputs": [
    {
     "data": {
      "text/plain": [
       "<seaborn.axisgrid.JointGrid at 0x236c16c4b50>"
      ]
     },
     "execution_count": 39,
     "metadata": {},
     "output_type": "execute_result"
    },
    {
     "data": {
      "image/png": "[encoded data removed]",
      "text/plain": [
       "<Figure size 432x432 with 3 Axes>"
      ]
     },
     "metadata": {},
     "output_type": "display_data"
    }
   ],
   "source": [
    "sns.jointplot(x = NBA_hipotesis.weight_kg,\n",
    "                y = NBA_hipotesis.height_m)"
   ]
  },
  {
   "cell_type": "markdown",
   "id": "italic-palmer",
   "metadata": {},
   "source": [
    "3) Test de normalidad."
   ]
  },
  {
   "cell_type": "code",
   "execution_count": 40,
   "id": "complimentary-phone",
   "metadata": {},
   "outputs": [
    {
     "data": {
      "text/html": [
       "<div>\n",
       "<style scoped>\n",
       "    .dataframe tbody tr th:only-of-type {\n",
       "        vertical-align: middle;\n",
       "    }\n",
       "\n",
       "    .dataframe tbody tr th {\n",
       "        vertical-align: top;\n",
       "    }\n",
       "\n",
       "    .dataframe thead th {\n",
       "        text-align: right;\n",
       "    }\n",
       "</style>\n",
       "<table border=\"1\" class=\"dataframe\">\n",
       "  <thead>\n",
       "    <tr style=\"text-align: right;\">\n",
       "      <th></th>\n",
       "      <th>W</th>\n",
       "      <th>pval</th>\n",
       "      <th>normal</th>\n",
       "    </tr>\n",
       "  </thead>\n",
       "  <tbody>\n",
       "    <tr>\n",
       "      <th>height_m</th>\n",
       "      <td>0.987678</td>\n",
       "      <td>2.001095e-19</td>\n",
       "      <td>False</td>\n",
       "    </tr>\n",
       "    <tr>\n",
       "      <th>weight_kg</th>\n",
       "      <td>0.981540</td>\n",
       "      <td>8.088301e-24</td>\n",
       "      <td>False</td>\n",
       "    </tr>\n",
       "    <tr>\n",
       "      <th>birth_year</th>\n",
       "      <td>0.963346</td>\n",
       "      <td>2.247991e-32</td>\n",
       "      <td>False</td>\n",
       "    </tr>\n",
       "    <tr>\n",
       "      <th>Num_seasons</th>\n",
       "      <td>0.856541</td>\n",
       "      <td>0.000000e+00</td>\n",
       "      <td>False</td>\n",
       "    </tr>\n",
       "  </tbody>\n",
       "</table>\n",
       "</div>"
      ],
      "text/plain": [
       "                    W          pval  normal\n",
       "height_m     0.987678  2.001095e-19   False\n",
       "weight_kg    0.981540  8.088301e-24   False\n",
       "birth_year   0.963346  2.247991e-32   False\n",
       "Num_seasons  0.856541  0.000000e+00   False"
      ]
     },
     "execution_count": 40,
     "metadata": {},
     "output_type": "execute_result"
    }
   ],
   "source": [
    "pg.normality(NBA_hipotesis, method = 'shapiro')"
   ]
  },
  {
   "cell_type": "markdown",
   "id": "intelligent-creativity",
   "metadata": {},
   "source": [
    "Para probar la hipótesis de que dos variables, no normales y con outlaiers son independientes voy a usar el test de Shepherd que es un test de correlación robusta. Nuestra hipótesis quedaría formulada de la siguiente manera:\n",
    "\n",
    "$H0: Las \\ dos \\ muestras \\ son \\ independientes. $\n",
    "\n",
    "$H1: Existe \\ dependencia \\ entre \\ muestras. $\n"
   ]
  },
  {
   "cell_type": "code",
   "execution_count": 41,
   "id": "expired-eligibility",
   "metadata": {},
   "outputs": [
    {
     "data": {
      "text/html": [
       "<div>\n",
       "<style scoped>\n",
       "    .dataframe tbody tr th:only-of-type {\n",
       "        vertical-align: middle;\n",
       "    }\n",
       "\n",
       "    .dataframe tbody tr th {\n",
       "        vertical-align: top;\n",
       "    }\n",
       "\n",
       "    .dataframe thead th {\n",
       "        text-align: right;\n",
       "    }\n",
       "</style>\n",
       "<table border=\"1\" class=\"dataframe\">\n",
       "  <thead>\n",
       "    <tr style=\"text-align: right;\">\n",
       "      <th></th>\n",
       "      <th>n</th>\n",
       "      <th>outliers</th>\n",
       "      <th>r</th>\n",
       "      <th>CI95%</th>\n",
       "      <th>p-val</th>\n",
       "      <th>power</th>\n",
       "    </tr>\n",
       "  </thead>\n",
       "  <tbody>\n",
       "    <tr>\n",
       "      <th>shepherd</th>\n",
       "      <td>4514</td>\n",
       "      <td>209</td>\n",
       "      <td>0.856259</td>\n",
       "      <td>[0.85, 0.86]</td>\n",
       "      <td>0.0</td>\n",
       "      <td>1.0</td>\n",
       "    </tr>\n",
       "  </tbody>\n",
       "</table>\n",
       "</div>"
      ],
      "text/plain": [
       "             n  outliers         r         CI95%  p-val  power\n",
       "shepherd  4514       209  0.856259  [0.85, 0.86]    0.0    1.0"
      ]
     },
     "execution_count": 41,
     "metadata": {},
     "output_type": "execute_result"
    }
   ],
   "source": [
    "pg.corr(x = NBA_hipotesis.height_m,\n",
    "        y = NBA_hipotesis.weight_kg,\n",
    "        method = 'shepherd')"
   ]
  },
  {
   "cell_type": "markdown",
   "id": "professional-silly",
   "metadata": {},
   "source": [
    "Valor P es menor que el nivel de significancia, por lo que puedo rechazar la hipótesis nula y afirmar que el **peso y la altura no son independientes.** "
   ]
  },
  {
   "cell_type": "markdown",
   "id": "charitable-detection",
   "metadata": {},
   "source": [
    "## Nivell 3\n",
    "### - Exercici 3\n",
    "\n",
    "Continua amb el conjunt de dades de tema esportiu que t'agradi i selecciona tres atributs del conjunt de dades. Calcula el p-valor i digues si rebutja la hipòtesi nul·la agafant un alfa de 5%."
   ]
  },
  {
   "cell_type": "markdown",
   "id": "quiet-missouri",
   "metadata": {},
   "source": [
    "En esta ocasión quiero comprobar si las posiciones y la altura está relacionadas. Es decir, ¿tienen Bases (G o guard), aleros (F o forward) y pivots ( C o center) la misma altura?\n",
    "\n",
    "Como nuestras distribuciones no habían pasado el test de shapiro recurriré a un test no paramétrico similar a un ANOVA, el test de la H de Kruskal-Wallis.\n",
    "\n",
    "En este caso la hipótesis sería:\n",
    "\n",
    "$H_0: \\overline{X}_{C} = \\overline{X}_{F} = \\overline{X}_{G}$\n",
    "\n",
    "$H_A: \\overline{X}_{C} \\neq \\overline{X}_{F} \\neq \\overline{X}_{G} $"
   ]
  },
  {
   "cell_type": "code",
   "execution_count": 42,
   "id": "artificial-knight",
   "metadata": {},
   "outputs": [],
   "source": [
    "NBA_posiciones = NBA_hipotesis[NBA_hipotesis.position.isin(['C','G','F'])]"
   ]
  },
  {
   "cell_type": "code",
   "execution_count": 43,
   "id": "exceptional-calvin",
   "metadata": {},
   "outputs": [
    {
     "data": {
      "text/html": [
       "<div>\n",
       "<style scoped>\n",
       "    .dataframe tbody tr th:only-of-type {\n",
       "        vertical-align: middle;\n",
       "    }\n",
       "\n",
       "    .dataframe tbody tr th {\n",
       "        vertical-align: top;\n",
       "    }\n",
       "\n",
       "    .dataframe thead th {\n",
       "        text-align: right;\n",
       "    }\n",
       "</style>\n",
       "<table border=\"1\" class=\"dataframe\">\n",
       "  <thead>\n",
       "    <tr style=\"text-align: right;\">\n",
       "      <th></th>\n",
       "      <th>Source</th>\n",
       "      <th>ddof1</th>\n",
       "      <th>H</th>\n",
       "      <th>p-unc</th>\n",
       "    </tr>\n",
       "  </thead>\n",
       "  <tbody>\n",
       "    <tr>\n",
       "      <th>Kruskal</th>\n",
       "      <td>position</td>\n",
       "      <td>2</td>\n",
       "      <td>2396.717699</td>\n",
       "      <td>0.0</td>\n",
       "    </tr>\n",
       "  </tbody>\n",
       "</table>\n",
       "</div>"
      ],
      "text/plain": [
       "           Source  ddof1            H  p-unc\n",
       "Kruskal  position      2  2396.717699    0.0"
      ]
     },
     "execution_count": 43,
     "metadata": {},
     "output_type": "execute_result"
    }
   ],
   "source": [
    "pg.kruskal(data = NBA_posiciones,\n",
    "           dv = 'height_m',\n",
    "           between = 'position')"
   ]
  },
  {
   "cell_type": "markdown",
   "id": "filled-southwest",
   "metadata": {},
   "source": [
    "Como obtengo un valor P menor de 0.05, puedo rechazar la hipótesis nula y afirmar que **bases, aleros y pivots tienen alturas diferentes**.  "
   ]
  }
 ],
 "metadata": {
  "kernelspec": {
   "display_name": "Python 3",
   "language": "python",
   "name": "python3"
  },
  "language_info": {
   "codemirror_mode": {
    "name": "ipython",
    "version": 3
   },
   "file_extension": ".py",
   "mimetype": "text/x-python",
   "name": "python",
   "nbconvert_exporter": "python",
   "pygments_lexer": "ipython3",
   "version": "3.8.5"
  }
 },
 "nbformat": 4,
 "nbformat_minor": 5
}
